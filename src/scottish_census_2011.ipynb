{
 "cells": [
  {
   "cell_type": "markdown",
   "id": "super-suspension",
   "metadata": {},
   "source": [
    "# CS2006 Advanced Programming Projects"
   ]
  },
  {
   "cell_type": "markdown",
   "id": "substantial-negotiation",
   "metadata": {},
   "source": [
    "## Python - Group Project 2\n",
    "\n",
    "## Data analysis with pandas"
   ]
  },
  {
   "cell_type": "markdown",
   "id": "ab13f7df",
   "metadata": {},
   "source": [
    "Checking if jupyter notebook is running on a virtual environment\n",
    "can be run by\n",
    "```\n",
    "make setup\n",
    "make run\n",
    "```"
   ]
  },
  {
   "cell_type": "code",
   "execution_count": null,
   "id": "d101df93",
   "metadata": {},
   "outputs": [],
   "source": [
    "import sys\n",
    "print(sys.prefix)"
   ]
  },
  {
   "cell_type": "markdown",
   "id": "2cfd789d",
   "metadata": {},
   "source": [
    "BASIC"
   ]
  },
  {
   "cell_type": "code",
   "execution_count": null,
   "id": "beautiful-hormone",
   "metadata": {},
   "outputs": [],
   "source": [
    "import pandas as pd\n",
    "import os\n",
    "import matplotlib.pyplot as plt\n",
    "from mpl_toolkits.mplot3d import Axes3D\n",
    "import ipywidgets as widgets\n",
    "from IPython.display import display"
   ]
  },
  {
   "cell_type": "markdown",
   "id": "nominated-keeping",
   "metadata": {},
   "source": [
    "We start with exploring the content of the dataset whilst refining it in case of any inconsistencies and outputting refined data "
   ]
  },
  {
   "cell_type": "code",
   "execution_count": null,
   "id": "extra-carry",
   "metadata": {},
   "outputs": [],
   "source": [
    "# This function reads a csv file and returns a dataframe with the data from the file \n",
    "def readCsv(fileName): \n",
    "    path = \"../data/\" + fileName \n",
    "    if os.path.isfile(path): # Check if file exists\n",
    "        df = substitution(cleanData(pd.read_csv(path)))\n",
    "    else: \n",
    "        print(\"File not found\") # Print error message if file does not exist\n",
    "        return None\n",
    "    if (df.empty):\n",
    "        print(\"File is empty\") # Print error message if file is empty\n",
    "        return None\n",
    "    return df\n",
    "\n",
    "# This function cleans the data by removing all records that contain invalid values and returns a refined dataframe\n",
    "def cleanData(df):\n",
    "    # Drop all rows with NaN (empty) values\n",
    "    df.dropna(inplace=True)\n",
    "\n",
    "    # Drop all duplicate rows\n",
    "    df.drop_duplicates(subset=['Record_Number'], keep='first', inplace=True)\n",
    "\n",
    "    # Drop all rows that contain invalid values\n",
    "    condition2 = df['RESIDENCE_TYPE'].isin([\"P\", \"C\"])\n",
    "    condition3 = df['sex'].isin([1, 2]) \n",
    "    condition4 = df['age'].isin([1, 2, 3, 4, 5, 6, 7, 8])\n",
    "    condition5 = df['Country_Of_Birth'].isin([1, 2])\n",
    "    condition6 = df['Family_Composition'].isin(['0', '1', '2', '3', '4', '5', 'X'])\n",
    "    condition7 = df['Marital_Status'].isin([1, 2, 3, 4, 5])\n",
    "    condition8 = df['student'].isin([1, 2])\n",
    "    condition9 = df['health'].isin([1, 2, 3, 4, 5, 6])\n",
    "    condition10 = df['Ethnic_Group'].isin([1, 2, 3, 4, 5, 6])\n",
    "    condition11 = df['Approximate_Social_Grade'].isin(['1', '2', '3', '4', 'X'])\n",
    "    condition12 = df['Hours_Worked_Per_Week'].isin(['1','2', '3', '4', 'X'])\n",
    "    condition13 = df['Region'].isin(['S92000003'])\n",
    "    condition14 = df['religion'].isin([1, 2, 3, 4, 5, 6, 7, 8, 9])\n",
    "    \n",
    "    # Create a boolean series\n",
    "    booleanSeries = condition2 & condition3 & condition4 & condition5 & condition6 & condition7 & condition8 & condition9 & condition10 & condition11 & condition12 & condition13 & condition14\n",
    "\n",
    "    # Filter out all rows that contain invalid values\n",
    "    df = df[booleanSeries]\n",
    "\n",
    "\n",
    "    # Return refined dataframe\n",
    "    return df\n",
    "\n",
    "def substitution(df): # TODO needs corrected\n",
    "    replacementDict = {\n",
    "        'Region': {\n",
    "            'S92000003': 'Scotland'\n",
    "        },\n",
    "        'RESIDENCE_TYPE': {\n",
    "            'C': 'Resident in a Communal Establishment',\n",
    "            'P': 'Not a resident in a Communal Establishment'\n",
    "        }, \n",
    "        'Family_Composition': {\n",
    "            '0': '0',\n",
    "            '1': '1', \n",
    "            '2': '2',\n",
    "            '3': '3',\n",
    "            '4': '4',\n",
    "            '5': '5',\n",
    "            'X': '6 or more'\n",
    "        },\n",
    "        'sex': {\n",
    "            1: 'Male',\n",
    "            2: 'Female'\n",
    "        },\n",
    "        'age': {\n",
    "            1: '0 to 15',\n",
    "            2: '16 to 24',\n",
    "            3: '25 to 34',\n",
    "            4: '35 to 44',\n",
    "            5: '45 to 54',\n",
    "            6: '55 to 64',\n",
    "            7: '65 to 74',\n",
    "            8: '75 and over'\n",
    "        },\n",
    "        'Marital_Status': {\n",
    "            1: 'Married',\n",
    "            2: 'Widowed',\n",
    "            3: 'Divorced',\n",
    "            4: 'Separated',\n",
    "            5: 'Never married'\n",
    "        },\n",
    "        'student': { \n",
    "            1: 'Yes',\n",
    "            2: 'No'\n",
    "        }, \n",
    "        'Country_Of_Birth': {\n",
    "            1: 'UK',\n",
    "            2: 'Non-UK'\n",
    "        },\n",
    "        'health': {\n",
    "            1: 'Very good',\n",
    "            2: 'Good',\n",
    "            3: 'Fair',\n",
    "            4: 'Bad',\n",
    "            5: 'Very bad'\n",
    "        }, \n",
    "        'Ethnic_Group': {\n",
    "            1: 'White',\n",
    "            2: 'Mixed',\n",
    "            3: 'Asian',\n",
    "            4: 'Black',\n",
    "            5: 'Chinese',\n",
    "            6: 'Other'\n",
    "        },\n",
    "        'religion': {\n",
    "            1: 'No religion',\n",
    "            2: 'Christian',\n",
    "            3: 'Buddhist',\n",
    "            4: 'Hindu',\n",
    "            5: 'Jewish',\n",
    "            6: 'Muslim',\n",
    "            7: 'Sikh',\n",
    "            8: 'Other religion',\n",
    "            9: 'Not stated'\n",
    "        },\n",
    "        'Economic_Activity': {\n",
    "            '1': 'Economically active: employed',\n",
    "            '2': 'Economically active: self-employed',\n",
    "            '3': 'Economically inactive: looking after home/family',\n",
    "            '4': 'Economically inactive: long-term sick or disabled',\n",
    "            '5': 'Economically inactive: student',\n",
    "            '6': 'Economically inactive: retired',\n",
    "            '7': 'Economically inactive: other',\n",
    "            '8': 'Economically active: unemployed',\n",
    "            '9': 'Economically active: Full-time student',\n",
    "            'X': 'Not known'\n",
    "        },\n",
    "        'Occupation': {\n",
    "            '1': 'Managers, directors and senior officials',\n",
    "            '2': 'Professional occupations',\n",
    "            '3': 'Associate professional and technical occupations',\n",
    "            '4': 'Administrative and secretarial occupations',\n",
    "            '5': 'Skilled trades occupations',\n",
    "            '6': 'Caring, leisure and other service occupations',\n",
    "            '7': 'Sales and customer service occupations',\n",
    "            '8': 'Process, plant and machine operatives',\n",
    "            '9': 'Elementary occupations',\n",
    "            'X': 'Not known'\n",
    "        },\n",
    "        'industry': {\n",
    "            '1': 'Agriculture, forestry and fishing',\n",
    "            '2': 'Mining and quarrying; Manufacturing; Electricity, gas, steam and air conditioning supply; Water supply',\n",
    "            '3': 'Construction',\n",
    "            '4': 'Wholesale and retail trade; repair of motor vehicles and motorcycles',\n",
    "            '5': 'Accommodation and food service activities',\n",
    "            '6': 'Transportation and storage; Information and communication',\n",
    "            '7': 'Financial and insurance activities',\n",
    "            '8': ' Real estate activities; professional, scientific and technical activities; Administrative and support service activities',\n",
    "            '9': 'Public administration and defence',\n",
    "            '10': 'Education',\n",
    "            '11': 'Human health and social work activities',\n",
    "            '12': 'Arts, entertainment and recreation',\n",
    "            '13': 'Other',\n",
    "            'X': 'Not known'\n",
    "        },\n",
    "        'Hours_Worked_Per_Week': {\n",
    "            '1': '0 to 15',\n",
    "            '2': '16 to 30',\n",
    "            '3': '31 to 45',\n",
    "            '4': '46 to 60',\n",
    "            'X': 'Not known'\n",
    "        }, \n",
    "        'Approximate_Social_Grade': {\n",
    "            '1': 'AB',\n",
    "            '2': 'C1',\n",
    "            '3': 'C2',\n",
    "            '4': 'DE',\n",
    "            'X': 'Not known'\n",
    "        }\n",
    "    }\n",
    "\n",
    "    # Replace values\n",
    "    df.replace(replacementDict, inplace=True)\n",
    "\n",
    "    # Return dataframe\n",
    "    return df\n"
   ]
  },
  {
   "cell_type": "code",
   "execution_count": null,
   "id": "77ea51c7",
   "metadata": {},
   "outputs": [],
   "source": [
    "df = readCsv(\"../data/Scotland_teaching_file_1PCT.csv\")\n",
    "df\n"
   ]
  },
  {
   "cell_type": "markdown",
   "id": "774c2414",
   "metadata": {},
   "source": [
    "We now preform a descriptive analysis of the dataset: Showing the number of records, types of each variable, and showing the number of occurances for each value."
   ]
  },
  {
   "cell_type": "code",
   "execution_count": null,
   "id": "949054f9",
   "metadata": {},
   "outputs": [],
   "source": [
    "def descriptiveAnalysis(df):\n",
    "    # print number of rows\n",
    "    print(\"Number of rows: \", df.shape[0])\n",
    "    # prints all variables and their respective types\n",
    "    # print(df.dtypes)\n",
    "\n",
    "    #value counts for each variable\n",
    "    for col in df.columns:\n",
    "        \n",
    "        if (col != 'Record_Number') and (col != 'Region'):\n",
    "            \n",
    "            value_counts = df[col].value_counts()\n",
    "            print(f\"\\n{col}:\") # Headers\n",
    "\n",
    "            with open('../data/DescriptiveAnalysis.txt', 'a') as f:\n",
    "                for index, value in value_counts.items():\n",
    "                    f.write(f\"{index}: {value}\")\n",
    "                    f.write(f\"{col}, {index}: {value}\\n\")\n",
    "\n",
    "            # Add an extra newline for better formatting in the output file\n",
    "            with open('../data/DescriptiveAnalysis.txt', 'a') as f:\n",
    "                f.write(\"\\n\")\n"
   ]
  },
  {
   "cell_type": "code",
   "execution_count": null,
   "id": "bbbb2487",
   "metadata": {},
   "outputs": [],
   "source": [
    "descriptiveAnalysis(df)"
   ]
  },
  {
   "cell_type": "markdown",
   "id": "e7282fa0",
   "metadata": {},
   "source": [
    "Next will be the following plots:\n",
    "* bar chart for the number of records for each age group;\n",
    "* bar chart for the number of records for each occupation;\n",
    "* pie chart for the percentage of records for each general health descriptor;\n",
    "* pie chart for the percentage of records for each ethnic group."
   ]
  },
  {
   "cell_type": "code",
   "execution_count": null,
   "id": "a3187087",
   "metadata": {},
   "outputs": [],
   "source": [
    "df['age'].value_counts().plot(kind='bar')"
   ]
  },
  {
   "cell_type": "code",
   "execution_count": null,
   "id": "290ed73b",
   "metadata": {},
   "outputs": [],
   "source": [
    "def plot_data(df, column, plotType):\n",
    "    df[column].value_counts().plot(kind=plotType)\n",
    "    plt.savefig(f\"../images/{column}.png\", bbox_inches='tight')\n",
    "\n",
    "column_dropdown = widgets.Dropdown(\n",
    "    options=list(df.columns),\n",
    "    value='age',\n",
    "    description='Column:',\n",
    "    disabled=False\n",
    ")\n",
    "\n",
    "def update_plot(change, plotType):\n",
    "    plot_data(df, change.new, plotType=plotType)\n",
    "\n",
    "column_dropdown.observe(update_plot, 'value')\n",
    "\n",
    "display(column_dropdown)\n",
    "\n",
    "plot_data(df, 'age', 'bar')"
   ]
  },
  {
   "cell_type": "code",
   "execution_count": null,
   "id": "7a10a8c2",
   "metadata": {},
   "outputs": [],
   "source": [
    "plot_data(df, column='age', plotType='bar')"
   ]
  },
  {
   "cell_type": "code",
   "execution_count": null,
   "id": "32522a03",
   "metadata": {},
   "outputs": [],
   "source": [
    "#df['Occupation'].value_counts().plot(kind='bar')\n",
    "\n",
    "plot_data(df, column='Occupation', plotType='bar')"
   ]
  },
  {
   "cell_type": "code",
   "execution_count": null,
   "id": "3509a974",
   "metadata": {},
   "outputs": [],
   "source": [
    "#df['health'].value_counts().plot(kind=\"pie\")\n",
    "plot_data(df, column='health', plotType='pie')"
   ]
  },
  {
   "cell_type": "code",
   "execution_count": null,
   "id": "e36bffcb",
   "metadata": {},
   "outputs": [],
   "source": [
    "#df['Ethnic_Group'].value_counts().plot(kind=\"pie\")\n",
    "plot_data(df, column='Ethnic_Group', plotType='pie')"
   ]
  },
  {
   "cell_type": "markdown",
   "id": "7ee32c45",
   "metadata": {},
   "source": [
    "# EASY"
   ]
  },
  {
   "cell_type": "markdown",
   "id": "2e9541c1",
   "metadata": {},
   "source": [
    "Printing table for number of records by hours worked per week and industry"
   ]
  },
  {
   "cell_type": "code",
   "execution_count": null,
   "id": "08f7a77d",
   "metadata": {},
   "outputs": [],
   "source": [
    "print(df.groupby(['Hours_Worked_Per_Week', 'industry']).size().reset_index(name='count'))"
   ]
  },
  {
   "cell_type": "markdown",
   "id": "82a0f20b",
   "metadata": {},
   "source": [
    "Prinitng table for number of records by occupation and approximate social grade"
   ]
  },
  {
   "cell_type": "code",
   "execution_count": null,
   "id": "eadade22",
   "metadata": {},
   "outputs": [],
   "source": [
    "print(df.groupby(['Occupation', 'Approximate_Social_Grade']).size().reset_index(name='count'))"
   ]
  },
  {
   "cell_type": "markdown",
   "id": "97c62a49",
   "metadata": {},
   "source": [
    "Filtering so that only economically active peoples remain"
   ]
  },
  {
   "cell_type": "code",
   "execution_count": null,
   "id": "d61af341",
   "metadata": {},
   "outputs": [],
   "source": [
    "economically_active = df.loc[df['Economic_Activity'].isin(['Economically active: employed',\n",
    "'Economically active: self-employed',\n",
    "'Economically inactive: looking after home/family',\n",
    "'Economically inactive: long-term sick or disabled'])]\n",
    "print(economically_active)\n",
    "print(\"Number of economically active people:\",len(economically_active))"
   ]
  },
  {
   "cell_type": "markdown",
   "id": "57e2edf7",
   "metadata": {},
   "source": [
    "To check if rows are filtered correctly by sorting them by Economic_Activity in ascending order"
   ]
  },
  {
   "cell_type": "code",
   "execution_count": null,
   "id": "1c7acde7",
   "metadata": {},
   "outputs": [],
   "source": [
    "print(economically_active.sort_values('Economic_Activity'))"
   ]
  },
  {
   "cell_type": "markdown",
   "id": "b4dcae12",
   "metadata": {},
   "source": [
    "Number of economically inactive people"
   ]
  },
  {
   "cell_type": "code",
   "execution_count": null,
   "id": "a4387a9b",
   "metadata": {},
   "outputs": [],
   "source": [
    "economically_inactive = df.loc[~df['Economic_Activity'].isin(['Economically active: employed',\n",
    "'Economically active: self-employed',\n",
    "'Economically inactive: looking after home/family',\n",
    "'Economically inactive: long-term sick or disabled'])]\n",
    "print(\"Number of economically inactive people:\",len(economically_inactive))"
   ]
  },
  {
   "cell_type": "markdown",
   "id": "a0030ccb",
   "metadata": {},
   "source": [
    "Number of working hours per week for students (4, 6 in \"Economic activity\")"
   ]
  },
  {
   "cell_type": "code",
   "execution_count": null,
   "id": "aeed62d3",
   "metadata": {},
   "outputs": [],
   "source": [
    "students = df.loc[df['Economic_Activity'].isin(['Economically inactive: long-term sick or disabled', 'Economically inactive: retired'])]\n",
    "number_of_working_hours_students = students.groupby(['Hours_Worked_Per_Week']).size().reset_index(name='count')\n",
    "print(number_of_working_hours_students)"
   ]
  },
  {
   "cell_type": "markdown",
   "id": "a738dd4b",
   "metadata": {},
   "source": [
    "Plotting number of working hours per week for students"
   ]
  },
  {
   "cell_type": "code",
   "execution_count": null,
   "id": "19a6d827",
   "metadata": {},
   "outputs": [],
   "source": [
    "number_of_working_hours_students.plot(kind='bar', legend=None)\n",
    "plt.title('Number of working hours per week for students')\n",
    "plt.xlabel('Hours worked per week')\n",
    "plt.ylabel('count')\n",
    "plt.show()"
   ]
  },
  {
   "cell_type": "markdown",
   "id": "a3812770",
   "metadata": {},
   "source": [
    "discrepancies between the student status given in \"Student\" and answers on the question on \"Economic activity\"\n",
    "Number of students are different from the two sources"
   ]
  },
  {
   "cell_type": "code",
   "execution_count": null,
   "id": "cf114902",
   "metadata": {},
   "outputs": [],
   "source": [
    "student_yes = df.loc[df['student'] == 1]\n",
    "print(\"Number of students from \\\"Student\\\":\",len(student_yes))\n",
    "print(\"Number of students from \\\"Economic activity\\\":\", len(students))\n",
    "yes_4_or_6 = df.groupby(['student', 'Hours_Worked_Per_Week']).size().reset_index(name='count')\n",
    "yes_4_or_6"
   ]
  },
  {
   "cell_type": "markdown",
   "id": "0605fd20",
   "metadata": {},
   "source": [
    "# MEDIUM"
   ]
  },
  {
   "cell_type": "markdown",
   "id": "0610fbbc",
   "metadata": {},
   "source": [
    "plotting in 3D number of records by hours worked per week and industry"
   ]
  },
  {
   "cell_type": "code",
   "execution_count": null,
   "id": "5d759b11",
   "metadata": {},
   "outputs": [],
   "source": [
    "\n",
    "def grouped_data_3d_plot(col1, col2):\n",
    "    grouped_data = df.groupby([col1, col2]).size().reset_index(name='count')\n",
    "\n",
    "    fig = plt.figure()\n",
    "    ax = fig.add_subplot(111, projection='3d')\n",
    "\n",
    "    grouped_data[col1] = pd.factorize(grouped_data[col1])[0]\n",
    "    grouped_data[col2] = pd.factorize(grouped_data[col2])[0]\n",
    "\n",
    "    ax.scatter(grouped_data[col1], grouped_data[col2], grouped_data['count'])\n",
    "\n",
    "    ax.set_xlabel(col1.replace('_', ' '))\n",
    "    ax.set_ylabel(col2.replace('_', ' '))\n",
    "    ax.set_zlabel('Number of Records')\n",
    "\n",
    "    plt.savefig(f\"../images/grouped_data_3d_{col1}_{col2}.png\", bbox_inches='tight')\n",
    "\n",
    "grouped_data_3d_plot(col1='Hours_Worked_Per_Week', col2='industry')\n",
    "\n",
    "\n",
    "\n",
    "\n",
    "# grouped_data_1 = df.groupby(['Hours_Worked_Per_Week', 'industry']).size().reset_index(name='count')\n",
    "\n",
    "# fig = plt.figure()\n",
    "# ax = fig.add_subplot(111, projection='3d')\n",
    "\n",
    "# grouped_data_1['Hours_Worked_Per_Week'] = pd.factorize(grouped_data_1['Hours_Worked_Per_Week'])[0]\n",
    "# grouped_data_1['industry'] = pd.factorize(grouped_data_1['industry'])[0]\n",
    "\n",
    "# ax.scatter(grouped_data_1['Hours_Worked_Per_Week'], grouped_data_1['industry'], grouped_data_1['count'])\n",
    "\n",
    "# ax.set_xlabel('Hours_Worked_Per_Week')\n",
    "# ax.set_ylabel('industry')\n",
    "# ax.set_zlabel('Number of Records')\n",
    "\n",
    "# plt.show()"
   ]
  },
  {
   "cell_type": "markdown",
   "id": "a2c85f9d",
   "metadata": {},
   "source": [
    "plotting in 3D number of records by occupation and approximate social grade"
   ]
  },
  {
   "cell_type": "code",
   "execution_count": null,
   "id": "a9300b2b",
   "metadata": {},
   "outputs": [],
   "source": [
    "grouped_data_3d_plot(col1='Occupation', col2='Approximate_Social_Grade')\n",
    "\n",
    "\n",
    "# grouped_data_2 = df.groupby(['Occupation', 'Approximate_Social_Grade']).size().reset_index(name='count')\n",
    "\n",
    "# fig = plt.figure()\n",
    "# ax = fig.add_subplot(111, projection='3d')\n",
    "\n",
    "# grouped_data_2['Occupation'] = pd.factorize(grouped_data_2['Occupation'])[0]\n",
    "# grouped_data_2['Approximate_Social_Grade'] = pd.factorize(grouped_data_2['Approximate_Social_Grade'])[0]\n",
    "\n",
    "# ax.scatter(grouped_data_2['Occupation'], grouped_data_2['Approximate_Social_Grade'], grouped_data_2['count'])\n",
    "\n",
    "# ax.set_xlabel('Occupation')\n",
    "# ax.set_ylabel('Approximate Social Grade')\n",
    "# ax.set_zlabel('Number of Records')\n",
    "\n",
    "# plt.show()"
   ]
  },
  {
   "cell_type": "markdown",
   "id": "2c128e6e",
   "metadata": {},
   "source": [
    "# ipywidgets"
   ]
  },
  {
   "cell_type": "markdown",
   "id": "918e6e82",
   "metadata": {},
   "source": [
    "Health of UK and Non UK Citizens"
   ]
  },
  {
   "cell_type": "code",
   "execution_count": null,
   "id": "53d32976",
   "metadata": {},
   "outputs": [],
   "source": [
    "df['health'].value_counts().plot(kind=\"pie\")\n",
    "\n",
    "countryOptions = df['Country_Of_Birth'].unique()\n",
    "\n",
    "UKBornCheckBox = widgets.Checkbox(\n",
    "    value=False,\n",
    "    description='If born in the UK',\n",
    "    disabled=False,\n",
    "    indent=False\n",
    ")\n",
    "\n",
    "countryOfBirthDropdown = widgets.Dropdown(\n",
    "    options=countryOptions,\n",
    "    value='UK',\n",
    "    description='Country of Birth:',\n",
    "    disabled=False\n",
    ")\n",
    "\n",
    "display(UKBornCheckBox)\n",
    "\n",
    "df['health'].value_counts().plot(kind=\"pie\")"
   ]
  },
  {
   "cell_type": "code",
   "execution_count": null,
   "id": "ffbe8fba",
   "metadata": {},
   "outputs": [],
   "source": [
    "# Define a function to plot the data\n",
    "def healthOfCitizens(UKBornCheckBox):\n",
    "    if UKBornCheckBox:\n",
    "        filtered_df = df[df['Country_Of_Birth'] == 'UK']\n",
    "    else:\n",
    "        filtered_df = df[df['Country_Of_Birth'] == 'Non-UK']\n",
    "\n",
    "    filtered_df['health'].value_counts().plot(kind=\"pie\")\n",
    "\n",
    "\n",
    "\n",
    "# Update the plot whenever the checkbox is changed\n",
    "def on_checkbox_change(change):\n",
    "    healthOfCitizens(change.new)\n",
    "    \n",
    "UKBornCheckBox.observe(on_checkbox_change, 'value')"
   ]
  },
  {
   "cell_type": "code",
   "execution_count": null,
   "id": "5f51487a",
   "metadata": {},
   "outputs": [],
   "source": [
    "healthOfCitizens(False) # TODO Check box does not currently appear"
   ]
  }
 ],
 "metadata": {
  "kernelspec": {
   "display_name": "Python 3.11.2 64-bit",
   "language": "python",
   "name": "python3"
  },
  "language_info": {
   "codemirror_mode": {
    "name": "ipython",
    "version": 3
   },
   "file_extension": ".py",
   "mimetype": "text/x-python",
   "name": "python",
   "nbconvert_exporter": "python",
   "pygments_lexer": "ipython3",
   "version": "3.9.14"
  },
  "vscode": {
   "interpreter": {
    "hash": "aee8b7b246df8f9039afb4144a1f6fd8d2ca17a180786b69acc140d282b71a49"
   }
  }
 },
 "nbformat": 4,
 "nbformat_minor": 5
}
